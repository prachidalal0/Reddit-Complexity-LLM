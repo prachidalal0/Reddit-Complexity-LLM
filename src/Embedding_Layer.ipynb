{
  "nbformat": 4,
  "nbformat_minor": 0,
  "metadata": {
    "colab": {
      "provenance": [],
      "gpuType": "T4",
      "authorship_tag": "ABX9TyOvIlglFW/eF3gigTh/AaWZ",
      "include_colab_link": true
    },
    "kernelspec": {
      "name": "python3",
      "display_name": "Python 3"
    },
    "language_info": {
      "name": "python"
    },
    "accelerator": "GPU"
  },
  "cells": [
    {
      "cell_type": "markdown",
      "metadata": {
        "id": "view-in-github",
        "colab_type": "text"
      },
      "source": [
        "<a href=\"https://colab.research.google.com/github/prachidalal0/Reddit-Complexity-LLM/blob/main/src/Embedding_Layer.ipynb\" target=\"_parent\"><img src=\"https://colab.research.google.com/assets/colab-badge.svg\" alt=\"Open In Colab\"/></a>"
      ]
    },
    {
      "cell_type": "code",
      "execution_count": 1,
      "metadata": {
        "id": "4cPtL_9YEPMD",
        "colab": {
          "base_uri": "https://localhost:8080/"
        },
        "outputId": "da5aab86-7ba1-46d8-f1d4-085bd3dda2ca"
      },
      "outputs": [
        {
          "output_type": "stream",
          "name": "stdout",
          "text": [
            "Mounted at /content/drive\n"
          ]
        }
      ],
      "source": [
        "import os\n",
        "\n",
        "#mount\n",
        "from google.colab import drive\n",
        "drive.mount('/content/drive')"
      ]
    },
    {
      "cell_type": "code",
      "source": [
        "#define basepath\n",
        "basepath = '/content/drive/MyDrive/MY_WEBSITE/Reddit-Complexity-LLM'"
      ],
      "metadata": {
        "id": "fWzYKec-wwUm"
      },
      "execution_count": 2,
      "outputs": []
    },
    {
      "cell_type": "code",
      "source": [
        "!ssh-keygen -t rsa -b 4096 -C \"prachi.dalal2@gmail.com\" -f ~/.ssh/id_rsa -N \"\""
      ],
      "metadata": {
        "colab": {
          "base_uri": "https://localhost:8080/"
        },
        "id": "bDsW3xr-5fgv",
        "outputId": "38ebd1ef-7d0b-4f5c-a6f2-aecfc85e410c"
      },
      "execution_count": 3,
      "outputs": [
        {
          "output_type": "stream",
          "name": "stdout",
          "text": [
            "Generating public/private rsa key pair.\n",
            "Created directory '/root/.ssh'.\n",
            "Your identification has been saved in /root/.ssh/id_rsa\n",
            "Your public key has been saved in /root/.ssh/id_rsa.pub\n",
            "The key fingerprint is:\n",
            "SHA256:hNvM0UaHpYO7x/nYs1GVfV9E/Y+y2Ce9VZcI3LIht2k prachi.dalal2@gmail.com\n",
            "The key's randomart image is:\n",
            "+---[RSA 4096]----+\n",
            "|          .oo  .+|\n",
            "|       . +oo.  .+|\n",
            "|      . +.=* . .*|\n",
            "|       * +o.B ..*|\n",
            "|      . S  E ..o=|\n",
            "|         o..... +|\n",
            "|        . +o.+  .|\n",
            "|         ..+=.o. |\n",
            "|          . +=.. |\n",
            "+----[SHA256]-----+\n"
          ]
        }
      ]
    },
    {
      "cell_type": "code",
      "source": [
        "!cat ~/.ssh/id_rsa.pub"
      ],
      "metadata": {
        "colab": {
          "base_uri": "https://localhost:8080/"
        },
        "id": "l7CXYNUy5fiy",
        "outputId": "b66844d0-ac1c-4e53-82b8-134b55b7cf9e"
      },
      "execution_count": 4,
      "outputs": [
        {
          "output_type": "stream",
          "name": "stdout",
          "text": [
            "ssh-rsa AAAAB3NzaC1yc2EAAAADAQABAAACAQCZ85ETjzMfU3J5iQQttFemvmZUGNB0quU6ChDwXMpEI4YaxHxN4ZMaYPSqq1Y492fWUsvUJYDVG7hEXzS1NU2Asaop6FqBopB7cX1YbF11EvYRx2cmCPio9sM5VnqvekxZ/0A01aZ1oyC2vIEUk+0tSAInH81+UZL2pK56U6utMt93H1BycY4yX+MGRs+nWojTLfIC7+Dwzf0drmqS0ntIDu1LRi6EYB0yDIEnI3fe4v+U6XP1EAXxcjbk7LHb6KmvaZcwLWHSU0HR4+AlOeyIrs9V0VMbodj6BYhsHUQbTp3A8q7OA0Jj/owv9GHOXGD44LVV26VXalNZnQBQNPAvUMb2AUfVLWqvutBplETCNDi83uA651Rc0wNbGIOIdcyAi7LG9hN1WPhvS7p+HowsKydKuOXBKRYLNk/KYOhR3hFoFchpdFqxTySRUd0KNcWgfpItoDkcQNUF1VQnDDejEcgR0JCao9Ll2qNN+Oy+FtP1OrenhML3bX4eyaNXbKAtL5tMnyvpT1nI6EHbQBxA0vG8py1o85CUyvDdmfJszD7aQSVIfXDhNRZNbjZrkH7YQl4ishG7iZP1ZDobi7xKGiZCMtSsYTmX0jiJRPnd2kVF2glVB98f2Rkv9l1xsBa7h1I6PkoJ0zwM/ROIdQpwEEOGUB6XUV3JSCp30rWN2w== prachi.dalal2@gmail.com\n"
          ]
        }
      ]
    },
    {
      "cell_type": "code",
      "source": [
        "# Create the .ssh directory and set permissions\n",
        "!mkdir -p ~/.ssh\n",
        "!chmod 700 ~/.ssh\n",
        "\n",
        "# Add GitHub to known hosts\n",
        "!ssh-keyscan -t rsa github.com >> ~/.ssh/known_hosts\n",
        "!chmod 644 ~/.ssh/known_hosts"
      ],
      "metadata": {
        "colab": {
          "base_uri": "https://localhost:8080/"
        },
        "id": "p0tSjybM5fk3",
        "outputId": "f25722df-dcbe-464d-b05e-d06f0de167b4"
      },
      "execution_count": 7,
      "outputs": [
        {
          "output_type": "stream",
          "name": "stdout",
          "text": [
            "# github.com:22 SSH-2.0-49d9d5157\n"
          ]
        }
      ]
    },
    {
      "cell_type": "code",
      "source": [
        "!ssh -T git@github.com"
      ],
      "metadata": {
        "colab": {
          "base_uri": "https://localhost:8080/"
        },
        "id": "ogm5y-gW5fm8",
        "outputId": "adad9251-d5c7-4ad7-f650-6ca923ab7e54"
      },
      "execution_count": 8,
      "outputs": [
        {
          "output_type": "stream",
          "name": "stdout",
          "text": [
            "Hi prachidalal0! You've successfully authenticated, but GitHub does not provide shell access.\n"
          ]
        }
      ]
    },
    {
      "cell_type": "code",
      "source": [
        "!git config --global user.name \"Prachi Dalal\"\n",
        "!git config --global user.email \"prachi.dalal2@gmail.com\""
      ],
      "metadata": {
        "id": "Rrwnsa4v-n6j"
      },
      "execution_count": 9,
      "outputs": []
    },
    {
      "cell_type": "code",
      "source": [
        "if not os.path.exists(basepath):\n",
        "    # Clone the repository if it doesn't exist\n",
        "    !git clone git@github.com:prachidalal0/Reddit-Complexity-LLM.git {basepath}\n",
        "else:\n",
        "    # Navigate to the repository directory\n",
        "    %cd {basepath}\n",
        "\n",
        "    # Set upstream branch if not already set\n",
        "    !git branch --set-upstream-to=origin/main main\n",
        "\n",
        "    # Pull the latest changes\n",
        "    !git pull"
      ],
      "metadata": {
        "colab": {
          "base_uri": "https://localhost:8080/"
        },
        "id": "4vXg6EMs-qfm",
        "outputId": "362a3ce8-f07a-4fd4-9cd5-afa4412b1ac4"
      },
      "execution_count": 16,
      "outputs": [
        {
          "output_type": "stream",
          "name": "stdout",
          "text": [
            "/content/drive/MyDrive/MY_WEBSITE/Reddit-Complexity-LLM\n",
            "error: the requested upstream branch 'origin/main' does not exist\n",
            "\u001b[33mhint: \u001b[m\n",
            "\u001b[33mhint: If you are planning on basing your work on an upstream\u001b[m\n",
            "\u001b[33mhint: branch that already exists at the remote, you may need to\u001b[m\n",
            "\u001b[33mhint: run \"git fetch\" to retrieve it.\u001b[m\n",
            "\u001b[33mhint: \u001b[m\n",
            "\u001b[33mhint: If you are planning to push out a new local branch that\u001b[m\n",
            "\u001b[33mhint: will track its remote counterpart, you may want to use\u001b[m\n",
            "\u001b[33mhint: \"git push -u\" to set the upstream config as you push.\u001b[m\n",
            "There is no tracking information for the current branch.\n",
            "Please specify which branch you want to merge with.\n",
            "See git-pull(1) for details.\n",
            "\n",
            "    git pull <remote> <branch>\n",
            "\n",
            "If you wish to set tracking information for this branch you can do so with:\n",
            "\n",
            "    git branch --set-upstream-to=<remote>/<branch> main\n",
            "\n"
          ]
        }
      ]
    },
    {
      "cell_type": "code",
      "source": [],
      "metadata": {
        "colab": {
          "base_uri": "https://localhost:8080/"
        },
        "id": "xwinEYPh6fbU",
        "outputId": "1baca163-15a6-4f79-cc83-07ae36a258d9"
      },
      "execution_count": 17,
      "outputs": [
        {
          "output_type": "stream",
          "name": "stdout",
          "text": [
            "Branch 'main' set up to track remote branch 'main' from 'origin'.\n"
          ]
        }
      ]
    },
    {
      "cell_type": "code",
      "source": [],
      "metadata": {
        "colab": {
          "base_uri": "https://localhost:8080/"
        },
        "id": "rIA1eKeu5fow",
        "outputId": "aa67c4d9-dc72-47f1-9b77-1a212dac6137"
      },
      "execution_count": 18,
      "outputs": [
        {
          "output_type": "stream",
          "name": "stdout",
          "text": [
            "/content/drive/MyDrive/MY_WEBSITE/Reddit-Complexity-LLM\n",
            "Already up to date.\n"
          ]
        }
      ]
    },
    {
      "cell_type": "code",
      "source": [
        "!git status"
      ],
      "metadata": {
        "colab": {
          "base_uri": "https://localhost:8080/"
        },
        "id": "57mLY5Rm5frp",
        "outputId": "5327542f-80c3-455b-9010-110a744120ce"
      },
      "execution_count": 22,
      "outputs": [
        {
          "output_type": "stream",
          "name": "stdout",
          "text": [
            "On branch main\n",
            "Your branch is ahead of 'origin/main' by 2 commits.\n",
            "  (use \"git push\" to publish your local commits)\n",
            "\n",
            "Changes to be committed:\n",
            "  (use \"git restore --staged <file>...\" to unstage)\n",
            "\t\u001b[32mnew file:   .ssh/id_rsa.txt\u001b[m\n",
            "\t\u001b[32mmodified:   Embedding_Layer.ipynb\u001b[m\n",
            "\t\u001b[32mnew file:   Reddit-Complexity-LLM\u001b[m\n",
            "\t\u001b[32mnew file:   Reddit-Complexity-LLM.git/HEAD\u001b[m\n",
            "\t\u001b[32mnew file:   Reddit-Complexity-LLM.git/config\u001b[m\n",
            "\t\u001b[32mnew file:   Reddit-Complexity-LLM.git/description\u001b[m\n",
            "\t\u001b[32mnew file:   Reddit-Complexity-LLM.git/hooks/applypatch-msg.sample\u001b[m\n",
            "\t\u001b[32mnew file:   Reddit-Complexity-LLM.git/hooks/commit-msg.sample\u001b[m\n",
            "\t\u001b[32mnew file:   Reddit-Complexity-LLM.git/hooks/fsmonitor-watchman.sample\u001b[m\n",
            "\t\u001b[32mnew file:   Reddit-Complexity-LLM.git/hooks/post-update.sample\u001b[m\n",
            "\t\u001b[32mnew file:   Reddit-Complexity-LLM.git/hooks/pre-applypatch.sample\u001b[m\n",
            "\t\u001b[32mnew file:   Reddit-Complexity-LLM.git/hooks/pre-commit.sample\u001b[m\n",
            "\t\u001b[32mnew file:   Reddit-Complexity-LLM.git/hooks/pre-merge-commit.sample\u001b[m\n",
            "\t\u001b[32mnew file:   Reddit-Complexity-LLM.git/hooks/pre-push.sample\u001b[m\n",
            "\t\u001b[32mnew file:   Reddit-Complexity-LLM.git/hooks/pre-rebase.sample\u001b[m\n",
            "\t\u001b[32mnew file:   Reddit-Complexity-LLM.git/hooks/pre-receive.sample\u001b[m\n",
            "\t\u001b[32mnew file:   Reddit-Complexity-LLM.git/hooks/prepare-commit-msg.sample\u001b[m\n",
            "\t\u001b[32mnew file:   Reddit-Complexity-LLM.git/hooks/push-to-checkout.sample\u001b[m\n",
            "\t\u001b[32mnew file:   Reddit-Complexity-LLM.git/hooks/update.sample\u001b[m\n",
            "\t\u001b[32mnew file:   Reddit-Complexity-LLM.git/info/exclude\u001b[m\n",
            "\t\u001b[32mnew file:   Reddit-Complexity-LLM.git/info/refs\u001b[m\n",
            "\t\u001b[32mnew file:   Reddit-Complexity-LLM.git/objects/info/commit-graph\u001b[m\n",
            "\t\u001b[32mnew file:   Reddit-Complexity-LLM.git/objects/info/packs\u001b[m\n",
            "\t\u001b[32mnew file:   Reddit-Complexity-LLM.git/objects/pack/pack-6baa4b21b94ea84dc8eebfd0e8e2682659dc815e.bitmap\u001b[m\n",
            "\t\u001b[32mnew file:   Reddit-Complexity-LLM.git/objects/pack/pack-6baa4b21b94ea84dc8eebfd0e8e2682659dc815e.idx\u001b[m\n",
            "\t\u001b[32mnew file:   Reddit-Complexity-LLM.git/objects/pack/pack-6baa4b21b94ea84dc8eebfd0e8e2682659dc815e.pack\u001b[m\n",
            "\t\u001b[32mnew file:   Reddit-Complexity-LLM.git/packed-refs\u001b[m\n",
            "\t\u001b[32mmodified:   reddit_complexity_LLM.ipynb\u001b[m\n",
            "\n",
            "Changes not staged for commit:\n",
            "  (use \"git add <file>...\" to update what will be committed)\n",
            "  (use \"git restore <file>...\" to discard changes in working directory)\n",
            "\t\u001b[31mmodified:   Embedding_Layer.ipynb\u001b[m\n",
            "\n"
          ]
        }
      ]
    },
    {
      "cell_type": "code",
      "source": [],
      "metadata": {
        "id": "e1C-xg6a7Z_h"
      },
      "execution_count": 24,
      "outputs": []
    },
    {
      "cell_type": "code",
      "source": [
        "!echo \"Reddit-Complexity-LLM/\" >> .gitignore\n",
        "!git add .gitignore\n",
        "!git commit -m \"Exclude Reddit-Complexity-LLM from being tracked\""
      ],
      "metadata": {
        "colab": {
          "base_uri": "https://localhost:8080/"
        },
        "id": "axZqmJRK6u_r",
        "outputId": "9c68615f-58fd-4d73-fdc0-8dcfa23b6bd3"
      },
      "execution_count": 25,
      "outputs": [
        {
          "output_type": "stream",
          "name": "stdout",
          "text": [
            "[main 5369427] Exclude Reddit-Complexity-LLM from being tracked\n",
            " 29 files changed, 865 insertions(+), 2 deletions(-)\n",
            " create mode 100644 .ssh/id_rsa.txt\n",
            " rewrite Embedding_Layer.ipynb (96%)\n",
            " create mode 160000 Reddit-Complexity-LLM\n",
            " create mode 100644 Reddit-Complexity-LLM.git/HEAD\n",
            " create mode 100644 Reddit-Complexity-LLM.git/config\n",
            " create mode 100644 Reddit-Complexity-LLM.git/description\n",
            " create mode 100644 Reddit-Complexity-LLM.git/hooks/applypatch-msg.sample\n",
            " create mode 100644 Reddit-Complexity-LLM.git/hooks/commit-msg.sample\n",
            " create mode 100644 Reddit-Complexity-LLM.git/hooks/fsmonitor-watchman.sample\n",
            " create mode 100644 Reddit-Complexity-LLM.git/hooks/post-update.sample\n",
            " create mode 100644 Reddit-Complexity-LLM.git/hooks/pre-applypatch.sample\n",
            " create mode 100644 Reddit-Complexity-LLM.git/hooks/pre-commit.sample\n",
            " create mode 100644 Reddit-Complexity-LLM.git/hooks/pre-merge-commit.sample\n",
            " create mode 100644 Reddit-Complexity-LLM.git/hooks/pre-push.sample\n",
            " create mode 100644 Reddit-Complexity-LLM.git/hooks/pre-rebase.sample\n",
            " create mode 100644 Reddit-Complexity-LLM.git/hooks/pre-receive.sample\n",
            " create mode 100644 Reddit-Complexity-LLM.git/hooks/prepare-commit-msg.sample\n",
            " create mode 100644 Reddit-Complexity-LLM.git/hooks/push-to-checkout.sample\n",
            " create mode 100644 Reddit-Complexity-LLM.git/hooks/update.sample\n",
            " create mode 100644 Reddit-Complexity-LLM.git/info/exclude\n",
            " create mode 100644 Reddit-Complexity-LLM.git/info/refs\n",
            " create mode 100644 Reddit-Complexity-LLM.git/objects/info/commit-graph\n",
            " create mode 100644 Reddit-Complexity-LLM.git/objects/info/packs\n",
            " create mode 100644 Reddit-Complexity-LLM.git/objects/pack/pack-6baa4b21b94ea84dc8eebfd0e8e2682659dc815e.bitmap\n",
            " create mode 100644 Reddit-Complexity-LLM.git/objects/pack/pack-6baa4b21b94ea84dc8eebfd0e8e2682659dc815e.idx\n",
            " create mode 100644 Reddit-Complexity-LLM.git/objects/pack/pack-6baa4b21b94ea84dc8eebfd0e8e2682659dc815e.pack\n",
            " create mode 100644 Reddit-Complexity-LLM.git/packed-refs\n"
          ]
        }
      ]
    },
    {
      "cell_type": "code",
      "source": [
        "!pip install git-filter-repo"
      ],
      "metadata": {
        "colab": {
          "base_uri": "https://localhost:8080/"
        },
        "id": "AMTGqBRF7uoE",
        "outputId": "89113636-5d27-4af0-b03c-a80abff1f4b3"
      },
      "execution_count": 27,
      "outputs": [
        {
          "output_type": "stream",
          "name": "stdout",
          "text": [
            "Collecting git-filter-repo\n",
            "  Downloading git_filter_repo-2.47.0-py3-none-any.whl.metadata (31 kB)\n",
            "Downloading git_filter_repo-2.47.0-py3-none-any.whl (76 kB)\n",
            "\u001b[?25l   \u001b[90m━━━━━━━━━━━━━━━━━━━━━━━━━━━━━━━━━━━━━━━━\u001b[0m \u001b[32m0.0/76.3 kB\u001b[0m \u001b[31m?\u001b[0m eta \u001b[36m-:--:--\u001b[0m\r\u001b[2K   \u001b[90m━━━━━━━━━━━━━━━━━━━━━━━━━━━━━━━━━━━━━━━━\u001b[0m \u001b[32m76.3/76.3 kB\u001b[0m \u001b[31m3.1 MB/s\u001b[0m eta \u001b[36m0:00:00\u001b[0m\n",
            "\u001b[?25hInstalling collected packages: git-filter-repo\n",
            "Successfully installed git-filter-repo-2.47.0\n"
          ]
        }
      ]
    },
    {
      "cell_type": "code",
      "source": [
        "!git checkout -b backup-branch"
      ],
      "metadata": {
        "colab": {
          "base_uri": "https://localhost:8080/"
        },
        "id": "6nFXx_CC7-ZM",
        "outputId": "8852b2e7-055c-4662-cd80-e8f38b1ebb99"
      },
      "execution_count": 29,
      "outputs": [
        {
          "output_type": "stream",
          "name": "stdout",
          "text": [
            "Switched to a new branch 'backup-branch'\n"
          ]
        }
      ]
    },
    {
      "cell_type": "code",
      "source": [
        "%cd /content\n",
        "!rm -rf /content/drive/MyDrive/MY_WEBSITE/Reddit-Complexity-LLM"
      ],
      "metadata": {
        "colab": {
          "base_uri": "https://localhost:8080/"
        },
        "id": "HkcZarKL7-bO",
        "outputId": "629da512-7215-4a82-924e-2961db3b6b1f"
      },
      "execution_count": 30,
      "outputs": [
        {
          "output_type": "stream",
          "name": "stdout",
          "text": [
            "/content\n"
          ]
        }
      ]
    },
    {
      "cell_type": "code",
      "source": [
        "!git clone git@github.com:prachidalal0/Reddit-Complexity-LLM.git /content/drive/MyDrive/MY_WEBSITE/Reddit-Complexity-LLM"
      ],
      "metadata": {
        "colab": {
          "base_uri": "https://localhost:8080/"
        },
        "id": "mVe1PRjM8Dx9",
        "outputId": "aa9e8ce4-5ed1-4325-953c-8eecee2e5e2f"
      },
      "execution_count": 31,
      "outputs": [
        {
          "output_type": "stream",
          "name": "stdout",
          "text": [
            "Cloning into '/content/drive/MyDrive/MY_WEBSITE/Reddit-Complexity-LLM'...\n",
            "remote: Enumerating objects: 52, done.\u001b[K\n",
            "remote: Counting objects: 100% (52/52), done.\u001b[K\n",
            "remote: Compressing objects: 100% (47/47), done.\u001b[K\n",
            "Receiving objects: 100% (52/52), 60.43 KiB | 2.24 MiB/s, done.\n",
            "Resolving deltas: 100% (19/19), done.\n",
            "remote: Total 52 (delta 19), reused 3 (delta 1), pack-reused 0 (from 0)\u001b[K\n"
          ]
        }
      ]
    },
    {
      "cell_type": "code",
      "source": [
        "%cd /content/drive/MyDrive/MY_WEBSITE/Reddit-Complexity-LLM\n",
        "\n",
        "# Remove the file from history\n",
        "!git filter-repo --path Embedding_Layer.ipynb --invert-paths\n",
        "!git filter-repo --path reddit_complexity_LLM.ipynb --invert-paths"
      ],
      "metadata": {
        "colab": {
          "base_uri": "https://localhost:8080/"
        },
        "id": "BF5CdSxB7wxR",
        "outputId": "c91abfba-1cdd-4824-bcd1-0a926175918c"
      },
      "execution_count": 32,
      "outputs": [
        {
          "output_type": "stream",
          "name": "stdout",
          "text": [
            "/content/drive/MyDrive/MY_WEBSITE/Reddit-Complexity-LLM\n",
            "NOTICE: Removing 'origin' remote; see 'Why is my origin removed?'\n",
            "        in the manual if you want to push back there.\n",
            "        (was git@github.com:prachidalal0/Reddit-Complexity-LLM.git)\n",
            "Parsed 17 commits\n",
            "New history written in 0.84 seconds; now repacking/cleaning...\n",
            "Repacking your repo and cleaning out old unneeded objects\n",
            "HEAD is now at 2a6942d Delete scraping_reddit.py\n",
            "Enumerating objects: 52, done.\n",
            "Counting objects: 100% (52/52), done.\n",
            "Delta compression using up to 2 threads\n",
            "Compressing objects: 100% (29/29), done.\n",
            "Writing objects: 100% (52/52), done.\n",
            "Total 52 (delta 19), reused 35 (delta 19), pack-reused 0\n",
            "Completely finished after 2.08 seconds.\n",
            "Parsed 17 commits\n",
            "New history written in 0.21 seconds; now repacking/cleaning...\n",
            "Repacking your repo and cleaning out old unneeded objects\n",
            "HEAD is now at 2a6942d Delete scraping_reddit.py\n",
            "Enumerating objects: 52, done.\n",
            "Counting objects: 100% (52/52), done.\n",
            "Delta compression using up to 2 threads\n",
            "Compressing objects: 100% (29/29), done.\n",
            "Writing objects: 100% (52/52), done.\n",
            "Total 52 (delta 19), reused 52 (delta 19), pack-reused 0\n",
            "Completely finished after 1.07 seconds.\n"
          ]
        }
      ]
    },
    {
      "cell_type": "code",
      "source": [
        "# Copy or edit the cleaned files as needed\n",
        "!git add Embedding_Layer.ipynb reddit_complexity_LLM.ipynb\n",
        "!git commit -m \"Re-add cleaned files without secrets\""
      ],
      "metadata": {
        "colab": {
          "base_uri": "https://localhost:8080/"
        },
        "id": "_P4tL1jm7w9R",
        "outputId": "883d7d20-18dd-4666-c011-c52ecbc4ec3b"
      },
      "execution_count": 38,
      "outputs": [
        {
          "output_type": "stream",
          "name": "stdout",
          "text": [
            "[main a3f2308] Re-add cleaned files without secrets\n",
            " 2 files changed, 2 insertions(+)\n",
            " create mode 100644 Embedding_Layer.ipynb\n",
            " create mode 100644 reddit_complexity_LLM.ipynb\n"
          ]
        }
      ]
    },
    {
      "cell_type": "code",
      "source": [
        "!ls /content/drive/MyDrive/MY_WEBSITE/Reddit-Complexity-LLM"
      ],
      "metadata": {
        "colab": {
          "base_uri": "https://localhost:8080/"
        },
        "id": "TfI0aVlg8YsR",
        "outputId": "061a6d6f-803c-4bcc-c06c-53558602b49b"
      },
      "execution_count": 37,
      "outputs": [
        {
          "output_type": "stream",
          "name": "stdout",
          "text": [
            "Embedding_Layer.ipynb  LICENSE\tREADME.md  reddit_complexity_LLM.ipynb\tsrc\n"
          ]
        }
      ]
    },
    {
      "cell_type": "code",
      "source": [
        "!git push origin main --force"
      ],
      "metadata": {
        "colab": {
          "base_uri": "https://localhost:8080/"
        },
        "id": "8vJyXxig8Yuz",
        "outputId": "264a4cc7-10b5-4465-9a0f-6455b45c1e80"
      },
      "execution_count": 39,
      "outputs": [
        {
          "output_type": "stream",
          "name": "stdout",
          "text": [
            "fatal: 'origin' does not appear to be a git repository\n",
            "fatal: Could not read from remote repository.\n",
            "\n",
            "Please make sure you have the correct access rights\n",
            "and the repository exists.\n"
          ]
        }
      ]
    },
    {
      "cell_type": "code",
      "source": [
        "!git add .\n",
        "!git commit -m \"Updated notebooks and fixed repository structure\"\n",
        "!git push origin main"
      ],
      "metadata": {
        "colab": {
          "base_uri": "https://localhost:8080/"
        },
        "id": "OjrROANn7Wjb",
        "outputId": "4e953aa5-d73b-4515-c6bf-384e8e86617e"
      },
      "execution_count": 40,
      "outputs": [
        {
          "output_type": "stream",
          "name": "stdout",
          "text": [
            "[main d6d3489] Updated notebooks and fixed repository structure\n",
            " 2 files changed, 2 insertions(+), 1 deletion(-)\n",
            " rewrite Embedding_Layer.ipynb (72%)\n",
            " create mode 100644 scraping_reddit.ipynb\n",
            "fatal: 'origin' does not appear to be a git repository\n",
            "fatal: Could not read from remote repository.\n",
            "\n",
            "Please make sure you have the correct access rights\n",
            "and the repository exists.\n"
          ]
        }
      ]
    },
    {
      "cell_type": "code",
      "source": [
        "gpu_info = !nvidia-smi\n",
        "gpu_info = '\\n'.join(gpu_info)\n",
        "if gpu_info.find('failed') >= 0:\n",
        "  print('Not connected to a GPU')\n",
        "else:\n",
        "  print(gpu_info)"
      ],
      "metadata": {
        "colab": {
          "base_uri": "https://localhost:8080/"
        },
        "id": "785xkcLslyUO",
        "outputId": "3b32e8da-2514-4680-dd2b-59417a962bbf"
      },
      "execution_count": 2,
      "outputs": [
        {
          "output_type": "stream",
          "name": "stdout",
          "text": [
            "Tue Jan 14 21:04:25 2025       \n",
            "+---------------------------------------------------------------------------------------+\n",
            "| NVIDIA-SMI 535.104.05             Driver Version: 535.104.05   CUDA Version: 12.2     |\n",
            "|-----------------------------------------+----------------------+----------------------+\n",
            "| GPU  Name                 Persistence-M | Bus-Id        Disp.A | Volatile Uncorr. ECC |\n",
            "| Fan  Temp   Perf          Pwr:Usage/Cap |         Memory-Usage | GPU-Util  Compute M. |\n",
            "|                                         |                      |               MIG M. |\n",
            "|=========================================+======================+======================|\n",
            "|   0  Tesla T4                       Off | 00000000:00:04.0 Off |                    0 |\n",
            "| N/A   47C    P8               9W /  70W |      0MiB / 15360MiB |      0%      Default |\n",
            "|                                         |                      |                  N/A |\n",
            "+-----------------------------------------+----------------------+----------------------+\n",
            "                                                                                         \n",
            "+---------------------------------------------------------------------------------------+\n",
            "| Processes:                                                                            |\n",
            "|  GPU   GI   CI        PID   Type   Process name                            GPU Memory |\n",
            "|        ID   ID                                                             Usage      |\n",
            "|=======================================================================================|\n",
            "|  No running processes found                                                           |\n",
            "+---------------------------------------------------------------------------------------+\n"
          ]
        }
      ]
    },
    {
      "cell_type": "code",
      "source": [
        "import torch"
      ],
      "metadata": {
        "id": "zGLmUrVZl2ih"
      },
      "execution_count": null,
      "outputs": []
    },
    {
      "cell_type": "code",
      "source": [
        "import os\n",
        "import urllib.request\n",
        "\n",
        "if not os.path.exists(\"the-verdict.txt\"):\n",
        "    url = (\"https://raw.githubusercontent.com/rasbt/\"\n",
        "           \"LLMs-from-scratch/main/ch02/01_main-chapter-code/\"\n",
        "           \"the-verdict.txt\")\n",
        "    file_path = \"the-verdict.txt\"\n",
        "    urllib.request.urlretrieve(url, file_path)"
      ],
      "metadata": {
        "id": "j_6B-b6fltpQ"
      },
      "execution_count": null,
      "outputs": []
    },
    {
      "cell_type": "code",
      "source": [
        "with open(\"the-verdict.txt\", \"r\", encoding=\"utf-8\") as f:\n",
        "    raw_text = f.read()\n",
        "\n",
        "print(\"Total number of character:\", len(raw_text))\n",
        "print(raw_text[:99])"
      ],
      "metadata": {
        "colab": {
          "base_uri": "https://localhost:8080/"
        },
        "id": "K6-wFnopciAf",
        "outputId": "384bb89f-aaf5-4c09-9789-414e6a17c4bb"
      },
      "execution_count": null,
      "outputs": [
        {
          "output_type": "stream",
          "name": "stdout",
          "text": [
            "Total number of character: 20479\n",
            "I HAD always thought Jack Gisburn rather a cheap genius--though a good fellow enough--so it was no \n"
          ]
        }
      ]
    },
    {
      "cell_type": "code",
      "source": [
        "!pip install tiktoken\n",
        "import importlib\n",
        "import tiktoken\n",
        "from importlib.metadata import version\n",
        "print(\"tiktoken version:\", version(\"tiktoken\"))"
      ],
      "metadata": {
        "colab": {
          "base_uri": "https://localhost:8080/"
        },
        "id": "hhrX7DT4dglL",
        "outputId": "25c10ddc-f8e0-4959-cb3f-ae62e7b2d861"
      },
      "execution_count": null,
      "outputs": [
        {
          "output_type": "stream",
          "name": "stdout",
          "text": [
            "Requirement already satisfied: tiktoken in /usr/local/lib/python3.10/dist-packages (0.8.0)\n",
            "Requirement already satisfied: regex>=2022.1.18 in /usr/local/lib/python3.10/dist-packages (from tiktoken) (2024.11.6)\n",
            "Requirement already satisfied: requests>=2.26.0 in /usr/local/lib/python3.10/dist-packages (from tiktoken) (2.32.3)\n",
            "Requirement already satisfied: charset-normalizer<4,>=2 in /usr/local/lib/python3.10/dist-packages (from requests>=2.26.0->tiktoken) (3.4.1)\n",
            "Requirement already satisfied: idna<4,>=2.5 in /usr/local/lib/python3.10/dist-packages (from requests>=2.26.0->tiktoken) (3.10)\n",
            "Requirement already satisfied: urllib3<3,>=1.21.1 in /usr/local/lib/python3.10/dist-packages (from requests>=2.26.0->tiktoken) (2.3.0)\n",
            "Requirement already satisfied: certifi>=2017.4.17 in /usr/local/lib/python3.10/dist-packages (from requests>=2.26.0->tiktoken) (2024.12.14)\n",
            "tiktoken version: 0.8.0\n"
          ]
        }
      ]
    },
    {
      "cell_type": "code",
      "source": [
        "tokenizer = tiktoken.get_encoding(\"gpt2\")"
      ],
      "metadata": {
        "id": "GDUZeCpxpk3K"
      },
      "execution_count": null,
      "outputs": []
    },
    {
      "cell_type": "code",
      "source": [
        "text = (\n",
        "    \"Hello, do you like tea? <|endoftext|> In the sunlit terraces\"\n",
        "     \"of someunknownPlace.\"\n",
        ")\n",
        "\n",
        "integers = tokenizer.encode(text, allowed_special={\"<|endoftext|>\"})\n",
        "\n",
        "strings = tokenizer.decode(integers)\n",
        "\n",
        "print(integers)\n",
        "print(strings)"
      ],
      "metadata": {
        "colab": {
          "base_uri": "https://localhost:8080/"
        },
        "id": "iGF8VGC4qC7s",
        "outputId": "beafc8a2-2027-476a-feca-09b89be061ad"
      },
      "execution_count": null,
      "outputs": [
        {
          "output_type": "stream",
          "name": "stdout",
          "text": [
            "[15496, 11, 466, 345, 588, 8887, 30, 220, 50256, 554, 262, 4252, 18250, 8812, 2114, 1659, 617, 34680, 27271, 13]\n",
            "Hello, do you like tea? <|endoftext|> In the sunlit terracesof someunknownPlace.\n"
          ]
        }
      ]
    },
    {
      "cell_type": "code",
      "source": [
        "with open(\"the-verdict.txt\", \"r\", encoding=\"utf-8\") as f:\n",
        "    raw_text = f.read()\n",
        "\n",
        "enc_text = tokenizer.encode(raw_text)\n",
        "print(len(enc_text))"
      ],
      "metadata": {
        "colab": {
          "base_uri": "https://localhost:8080/"
        },
        "id": "5d5YD2JhroCC",
        "outputId": "26f10e92-69d4-40c0-bf29-0cd6f5a5d23c"
      },
      "execution_count": null,
      "outputs": [
        {
          "output_type": "stream",
          "name": "stdout",
          "text": [
            "5145\n"
          ]
        }
      ]
    },
    {
      "cell_type": "code",
      "source": [
        "enc_sample = enc_text[50:]"
      ],
      "metadata": {
        "id": "elY0kT9lrpHQ"
      },
      "execution_count": null,
      "outputs": []
    },
    {
      "cell_type": "code",
      "source": [
        "context_size = 4\n",
        "\n",
        "x = enc_sample[:context_size]\n",
        "y = enc_sample[1:context_size+1]\n",
        "\n",
        "print(f\"x: {x}\")\n",
        "print(f\"y:      {y}\")\n",
        "\n",
        "#left is input ID\n",
        "#right is target ID, what LLM is supposed to predict\n",
        "for i in range(1, context_size+1):\n",
        "    context = enc_sample[:i]\n",
        "    desired = enc_sample[i]\n",
        "\n",
        "    print(context, \"---->\", desired)"
      ],
      "metadata": {
        "colab": {
          "base_uri": "https://localhost:8080/"
        },
        "id": "n7iQpLKKrq6F",
        "outputId": "f4e62f63-2660-4043-d3f3-fd6254145d6f"
      },
      "execution_count": null,
      "outputs": [
        {
          "output_type": "stream",
          "name": "stdout",
          "text": [
            "x: [290, 4920, 2241, 287]\n",
            "y:      [4920, 2241, 287, 257]\n",
            "[290] ----> 4920\n",
            "[290, 4920] ----> 2241\n",
            "[290, 4920, 2241] ----> 287\n",
            "[290, 4920, 2241, 287] ----> 257\n"
          ]
        }
      ]
    },
    {
      "cell_type": "code",
      "source": [
        "context_size = 4\n",
        "\n",
        "x = enc_sample[:context_size]\n",
        "y = enc_sample[1:context_size+1]\n",
        "\n",
        "print(f\"x: {x}\")\n",
        "print(f\"y:      {y}\")\n",
        "\n",
        "#left is input ID\n",
        "#right is target ID, what LLM is supposed to predict\n",
        "for i in range(1, context_size+1):\n",
        "    context = enc_sample[:i]\n",
        "    desired = enc_sample[i]\n",
        "\n",
        "    print(tokenizer.decode(context), \"---->\", tokenizer.decode([desired]))"
      ],
      "metadata": {
        "colab": {
          "base_uri": "https://localhost:8080/"
        },
        "id": "tdi2V8F1twqv",
        "outputId": "32091188-9360-4667-985f-e38614ab85ad"
      },
      "execution_count": null,
      "outputs": [
        {
          "output_type": "stream",
          "name": "stdout",
          "text": [
            "x: [290, 4920, 2241, 287]\n",
            "y:      [4920, 2241, 287, 257]\n",
            " and ---->  established\n",
            " and established ---->  himself\n",
            " and established himself ---->  in\n",
            " and established himself in ---->  a\n"
          ]
        }
      ]
    },
    {
      "cell_type": "code",
      "source": [
        "for i in range(1, context_size+1):\n",
        "    context = enc_sample[:i]\n",
        "    desired = enc_sample[i]\n",
        "\n",
        "    print(tokenizer.decode(context), \"---->\", tokenizer.decode([desired]))"
      ],
      "metadata": {
        "colab": {
          "base_uri": "https://localhost:8080/"
        },
        "id": "sVL8eRC1r3o7",
        "outputId": "2778e1ca-cb72-46ea-ccbc-f63ec7756cdc"
      },
      "execution_count": null,
      "outputs": [
        {
          "output_type": "stream",
          "name": "stdout",
          "text": [
            " and ---->  established\n",
            " and established ---->  himself\n",
            " and established himself ---->  in\n",
            " and established himself in ---->  a\n"
          ]
        }
      ]
    },
    {
      "cell_type": "code",
      "source": [
        "#Create dataset for Input-Target Pair Generation\n",
        "\n",
        "from torch.utils.data import Dataset, DataLoader\n",
        "\n",
        "\n",
        "class GPTDatasetV1(Dataset):\n",
        "    def __init__(self, txt, tokenizer, max_length, stride):\n",
        "        self.input_ids = []\n",
        "        self.target_ids = []\n",
        "\n",
        "        # Tokenize the entire text\n",
        "        token_ids = tokenizer.encode(txt, allowed_special={\"<|endoftext|>\"})\n",
        "\n",
        "        # Use a sliding window to chunk the book into overlapping sequences of max_length\n",
        "        for i in range(0, len(token_ids) - max_length, stride):\n",
        "            input_chunk = token_ids[i:i + max_length]\n",
        "            target_chunk = token_ids[i + 1: i + max_length + 1]\n",
        "            self.input_ids.append(torch.tensor(input_chunk))\n",
        "            self.target_ids.append(torch.tensor(target_chunk))\n",
        "\n",
        "    def __len__(self):\n",
        "        return len(self.input_ids)\n",
        "\n",
        "    def __getitem__(self, idx):\n",
        "        return self.input_ids[idx], self.target_ids[idx]"
      ],
      "metadata": {
        "id": "aRI026hQs56j"
      },
      "execution_count": null,
      "outputs": []
    },
    {
      "cell_type": "code",
      "source": [
        "#Input-Target Pair Generation\n",
        "\n",
        "def create_dataloader_v1(txt, batch_size=4, max_length=256,\n",
        "                         stride=128, shuffle=True, drop_last=True,\n",
        "                         num_workers=0):\n",
        "\n",
        "    # Initialize the tokenizer\n",
        "    tokenizer = tiktoken.get_encoding(\"gpt2\")\n",
        "\n",
        "    # Create dataset\n",
        "    dataset = GPTDatasetV1(txt, tokenizer, max_length, stride)\n",
        "\n",
        "    # Create dataloader\n",
        "    dataloader = DataLoader(\n",
        "        dataset,\n",
        "        batch_size=batch_size,\n",
        "        shuffle=shuffle,\n",
        "        drop_last=drop_last,\n",
        "        num_workers=num_workers\n",
        "    )\n",
        "\n",
        "    return dataloader"
      ],
      "metadata": {
        "id": "fwIUzK37s-cr"
      },
      "execution_count": null,
      "outputs": []
    },
    {
      "cell_type": "code",
      "source": [
        "with open(\"the-verdict.txt\", \"r\", encoding=\"utf-8\") as f:\n",
        "    raw_text = f.read()"
      ],
      "metadata": {
        "id": "4uqPu1tTu57q"
      },
      "execution_count": null,
      "outputs": []
    },
    {
      "cell_type": "code",
      "source": [
        "#usually LLMs have input sizes min 256 (instead of 4)\n",
        "dataloader = create_dataloader_v1(\n",
        "    raw_text, batch_size=1, max_length=4, stride=1, shuffle=False\n",
        ")\n",
        "\n",
        "data_iter = iter(dataloader)\n",
        "first_batch = next(data_iter)\n",
        "print(first_batch)"
      ],
      "metadata": {
        "colab": {
          "base_uri": "https://localhost:8080/"
        },
        "id": "HwT_N5BbvDwo",
        "outputId": "48ad0006-bcd0-45ce-92fe-cfa424fa2f1f"
      },
      "execution_count": null,
      "outputs": [
        {
          "output_type": "stream",
          "name": "stdout",
          "text": [
            "[tensor([[  40,  367, 2885, 1464]]), tensor([[ 367, 2885, 1464, 1807]])]\n"
          ]
        }
      ]
    },
    {
      "cell_type": "code",
      "source": [
        "second_batch = next(data_iter)\n",
        "print(second_batch)\n",
        "#second batch's token id is shifted by one position) --> sliding window approach"
      ],
      "metadata": {
        "colab": {
          "base_uri": "https://localhost:8080/"
        },
        "id": "xNjLFmxkvGdA",
        "outputId": "9662d4d5-9f00-45e3-ff7b-1bd70b1a24f8"
      },
      "execution_count": null,
      "outputs": [
        {
          "output_type": "stream",
          "name": "stdout",
          "text": [
            "[tensor([[2885, 1464, 1807, 3619]]), tensor([[1464, 1807, 3619,  402]])]\n"
          ]
        }
      ]
    },
    {
      "cell_type": "code",
      "source": [
        "#the embedding layer is just a more efficient implementation that is\n",
        "#equivalent to the one-hot encoding and matrix-multiplication approach it can\n",
        "#be seen as a neural network layer that can be optimized via backpropagation\n",
        "\n",
        "vocab_size = 50257\n",
        "output_dim = 256\n",
        "\n",
        "token_embedding_layer = torch.nn.Embedding(vocab_size, output_dim)"
      ],
      "metadata": {
        "id": "tTrnhIRT5bhI"
      },
      "execution_count": null,
      "outputs": []
    },
    {
      "cell_type": "code",
      "source": [
        "max_length = 4\n",
        "dataloader = create_dataloader_v1(\n",
        "    raw_text, batch_size=8, max_length=max_length,\n",
        "    stride=max_length, shuffle=False\n",
        ")\n",
        "data_iter = iter(dataloader)\n",
        "inputs, targets = next(data_iter)\n",
        "\n",
        "print(\"Token IDs:\\n\", inputs)\n",
        "print(\"\\nInputs shape:\\n\", inputs.shape)\n",
        "#token id tensor is 8 x 4"
      ],
      "metadata": {
        "colab": {
          "base_uri": "https://localhost:8080/"
        },
        "id": "DIgI8uze6FMU",
        "outputId": "61ab3b7d-5a53-4da3-ab88-5155a2e61359"
      },
      "execution_count": null,
      "outputs": [
        {
          "output_type": "stream",
          "name": "stdout",
          "text": [
            "Token IDs:\n",
            " tensor([[   40,   367,  2885,  1464],\n",
            "        [ 1807,  3619,   402,   271],\n",
            "        [10899,  2138,   257,  7026],\n",
            "        [15632,   438,  2016,   257],\n",
            "        [  922,  5891,  1576,   438],\n",
            "        [  568,   340,   373,   645],\n",
            "        [ 1049,  5975,   284,   502],\n",
            "        [  284,  3285,   326,    11]])\n",
            "\n",
            "Inputs shape:\n",
            " torch.Size([8, 4])\n"
          ]
        }
      ]
    },
    {
      "cell_type": "code",
      "source": [
        "#embed tokens (each token id) into 256-dimensional vectors\n",
        "token_embeddings = token_embedding_layer(inputs)\n",
        "print(token_embeddings.shape)"
      ],
      "metadata": {
        "colab": {
          "base_uri": "https://localhost:8080/"
        },
        "id": "MPacVsVc6ZT2",
        "outputId": "ae2a43e4-a393-49de-ad81-7e0a3f6623cc"
      },
      "execution_count": null,
      "outputs": [
        {
          "output_type": "stream",
          "name": "stdout",
          "text": [
            "torch.Size([8, 4, 256])\n"
          ]
        }
      ]
    },
    {
      "cell_type": "code",
      "source": [
        "#because of GPT absolute positioning (absolute embedding approach)\n",
        "#creates another embedding layer that has same dimensions as token_embedding_layer\n",
        "context_length = max_length\n",
        "pos_embedding_layer = torch.nn.Embedding(context_length, output_dim)\n",
        "pos_embeddings = pos_embedding_layer(torch.arange(max_length))\n",
        "print(pos_embeddings.shape)"
      ],
      "metadata": {
        "colab": {
          "base_uri": "https://localhost:8080/"
        },
        "id": "gDFj_xS16x04",
        "outputId": "f496a787-2a1a-4d66-882f-02737da5e6f3"
      },
      "execution_count": null,
      "outputs": [
        {
          "output_type": "stream",
          "name": "stdout",
          "text": [
            "torch.Size([4, 256])\n"
          ]
        }
      ]
    },
    {
      "cell_type": "code",
      "source": [
        "#add positional embeddings (4x256) to the token embeddings\n",
        "#PyTorch adds each 4x256 dimensional pos_embeddings to each 4x256 dimension token embedding tensor\n",
        "\n",
        "input_embeddings = token_embeddings + pos_embeddings\n",
        "print(input_embeddings.shape)"
      ],
      "metadata": {
        "colab": {
          "base_uri": "https://localhost:8080/"
        },
        "id": "-CE0gWV37LoK",
        "outputId": "e09a5b89-3f4d-4f33-be30-45c52abfd1b0"
      },
      "execution_count": null,
      "outputs": [
        {
          "output_type": "stream",
          "name": "stdout",
          "text": [
            "torch.Size([8, 4, 256])\n"
          ]
        }
      ]
    },
    {
      "cell_type": "code",
      "source": [],
      "metadata": {
        "id": "RJQOlt0v7q1U"
      },
      "execution_count": null,
      "outputs": []
    }
  ]
}